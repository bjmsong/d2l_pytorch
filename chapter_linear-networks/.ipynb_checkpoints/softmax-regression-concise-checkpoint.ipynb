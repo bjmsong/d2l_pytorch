{
 "cells": [
  {
   "cell_type": "markdown",
   "id": "686f57f1",
   "metadata": {
    "origin_pos": 0
   },
   "source": [
    "# softmax回归的简洁实现\n",
    ":label:`sec_softmax_concise`\n",
    "\n",
    "在 :numref:`sec_linear_concise`中，\n",
    "我们发现(**通过深度学习框架的高级API能够使实现**)\n",
    "(~~softmax~~)\n",
    "线性(**回归变得更加容易**)。\n",
    "同样，通过深度学习框架的高级API也能更方便地实现softmax回归模型。\n",
    "本节如在 :numref:`sec_softmax_scratch`中一样，\n",
    "继续使用Fashion-MNIST数据集，并保持批量大小为256。\n"
   ]
  },
  {
   "cell_type": "code",
   "execution_count": 2,
   "id": "41477e75",
   "metadata": {
    "execution": {
     "iopub.execute_input": "2022-07-31T02:33:45.407576Z",
     "iopub.status.busy": "2022-07-31T02:33:45.407039Z",
     "iopub.status.idle": "2022-07-31T02:33:47.227800Z",
     "shell.execute_reply": "2022-07-31T02:33:47.227055Z"
    },
    "origin_pos": 2,
    "tab": [
     "pytorch"
    ]
   },
   "outputs": [],
   "source": [
    "import torch\n",
    "from torch import nn\n",
    "from d2l import torch as d2l"
   ]
  },
  {
   "cell_type": "code",
   "execution_count": 3,
   "id": "b1d722f2",
   "metadata": {
    "execution": {
     "iopub.execute_input": "2022-07-31T02:33:47.231260Z",
     "iopub.status.busy": "2022-07-31T02:33:47.231000Z",
     "iopub.status.idle": "2022-07-31T02:33:47.322890Z",
     "shell.execute_reply": "2022-07-31T02:33:47.322003Z"
    },
    "origin_pos": 4,
    "tab": [
     "pytorch"
    ]
   },
   "outputs": [
    {
     "name": "stdout",
     "output_type": "stream",
     "text": [
      "Downloading http://fashion-mnist.s3-website.eu-central-1.amazonaws.com/train-images-idx3-ubyte.gz\n",
      "Downloading http://fashion-mnist.s3-website.eu-central-1.amazonaws.com/train-images-idx3-ubyte.gz to ../data/FashionMNIST/raw/train-images-idx3-ubyte.gz\n"
     ]
    },
    {
     "data": {
      "application/json": {
       "ascii": false,
       "bar_format": null,
       "colour": null,
       "elapsed": 0.018696308135986328,
       "initial": 0,
       "n": 0,
       "ncols": null,
       "nrows": 25,
       "postfix": null,
       "prefix": "",
       "rate": null,
       "total": 26421880,
       "unit": "it",
       "unit_divisor": 1000,
       "unit_scale": false
      },
      "application/vnd.jupyter.widget-view+json": {
       "model_id": "ce18383d70694d24b156f91fdef8f446",
       "version_major": 2,
       "version_minor": 0
      },
      "text/plain": [
       "  0%|          | 0/26421880 [00:00<?, ?it/s]"
      ]
     },
     "metadata": {},
     "output_type": "display_data"
    },
    {
     "name": "stdout",
     "output_type": "stream",
     "text": [
      "Extracting ../data/FashionMNIST/raw/train-images-idx3-ubyte.gz to ../data/FashionMNIST/raw\n",
      "\n",
      "Downloading http://fashion-mnist.s3-website.eu-central-1.amazonaws.com/train-labels-idx1-ubyte.gz\n",
      "Downloading http://fashion-mnist.s3-website.eu-central-1.amazonaws.com/train-labels-idx1-ubyte.gz to ../data/FashionMNIST/raw/train-labels-idx1-ubyte.gz\n"
     ]
    },
    {
     "data": {
      "application/json": {
       "ascii": false,
       "bar_format": null,
       "colour": null,
       "elapsed": 0.024030447006225586,
       "initial": 0,
       "n": 0,
       "ncols": null,
       "nrows": 25,
       "postfix": null,
       "prefix": "",
       "rate": null,
       "total": 29515,
       "unit": "it",
       "unit_divisor": 1000,
       "unit_scale": false
      },
      "application/vnd.jupyter.widget-view+json": {
       "model_id": "4dc70beea8274b1a87dced417fcae7b8",
       "version_major": 2,
       "version_minor": 0
      },
      "text/plain": [
       "  0%|          | 0/29515 [00:00<?, ?it/s]"
      ]
     },
     "metadata": {},
     "output_type": "display_data"
    },
    {
     "name": "stdout",
     "output_type": "stream",
     "text": [
      "Extracting ../data/FashionMNIST/raw/train-labels-idx1-ubyte.gz to ../data/FashionMNIST/raw\n",
      "\n",
      "Downloading http://fashion-mnist.s3-website.eu-central-1.amazonaws.com/t10k-images-idx3-ubyte.gz\n",
      "Downloading http://fashion-mnist.s3-website.eu-central-1.amazonaws.com/t10k-images-idx3-ubyte.gz to ../data/FashionMNIST/raw/t10k-images-idx3-ubyte.gz\n"
     ]
    },
    {
     "data": {
      "application/json": {
       "ascii": false,
       "bar_format": null,
       "colour": null,
       "elapsed": 0.017028093338012695,
       "initial": 0,
       "n": 0,
       "ncols": null,
       "nrows": 25,
       "postfix": null,
       "prefix": "",
       "rate": null,
       "total": 4422102,
       "unit": "it",
       "unit_divisor": 1000,
       "unit_scale": false
      },
      "application/vnd.jupyter.widget-view+json": {
       "model_id": "370e1ee5f4fc402981a34173d87eecce",
       "version_major": 2,
       "version_minor": 0
      },
      "text/plain": [
       "  0%|          | 0/4422102 [00:00<?, ?it/s]"
      ]
     },
     "metadata": {},
     "output_type": "display_data"
    },
    {
     "name": "stdout",
     "output_type": "stream",
     "text": [
      "Extracting ../data/FashionMNIST/raw/t10k-images-idx3-ubyte.gz to ../data/FashionMNIST/raw\n",
      "\n",
      "Downloading http://fashion-mnist.s3-website.eu-central-1.amazonaws.com/t10k-labels-idx1-ubyte.gz\n",
      "Downloading http://fashion-mnist.s3-website.eu-central-1.amazonaws.com/t10k-labels-idx1-ubyte.gz to ../data/FashionMNIST/raw/t10k-labels-idx1-ubyte.gz\n"
     ]
    },
    {
     "data": {
      "application/json": {
       "ascii": false,
       "bar_format": null,
       "colour": null,
       "elapsed": 0.019769668579101562,
       "initial": 0,
       "n": 0,
       "ncols": null,
       "nrows": 25,
       "postfix": null,
       "prefix": "",
       "rate": null,
       "total": 5148,
       "unit": "it",
       "unit_divisor": 1000,
       "unit_scale": false
      },
      "application/vnd.jupyter.widget-view+json": {
       "model_id": "a812849f26e94de4ba2b8acd17227c0b",
       "version_major": 2,
       "version_minor": 0
      },
      "text/plain": [
       "  0%|          | 0/5148 [00:00<?, ?it/s]"
      ]
     },
     "metadata": {},
     "output_type": "display_data"
    },
    {
     "name": "stdout",
     "output_type": "stream",
     "text": [
      "Extracting ../data/FashionMNIST/raw/t10k-labels-idx1-ubyte.gz to ../data/FashionMNIST/raw\n",
      "\n"
     ]
    }
   ],
   "source": [
    "batch_size = 256\n",
    "train_iter, test_iter = d2l.load_data_fashion_mnist(batch_size)"
   ]
  },
  {
   "cell_type": "markdown",
   "id": "3df0ecd1",
   "metadata": {
    "origin_pos": 5
   },
   "source": [
    "## 初始化模型参数\n",
    "\n",
    "如我们在 :numref:`sec_softmax`所述，\n",
    "[**softmax回归的输出层是一个全连接层**]。\n",
    "因此，为了实现我们的模型，\n",
    "我们只需在`Sequential`中添加一个带有10个输出的全连接层。\n",
    "同样，在这里`Sequential`并不是必要的，\n",
    "但它是实现深度模型的基础。\n",
    "我们仍然以均值0和标准差0.01随机初始化权重。\n"
   ]
  },
  {
   "cell_type": "code",
   "execution_count": 4,
   "id": "4b8ef808",
   "metadata": {
    "execution": {
     "iopub.execute_input": "2022-07-31T02:33:47.326549Z",
     "iopub.status.busy": "2022-07-31T02:33:47.326134Z",
     "iopub.status.idle": "2022-07-31T02:33:47.332207Z",
     "shell.execute_reply": "2022-07-31T02:33:47.331417Z"
    },
    "origin_pos": 7,
    "tab": [
     "pytorch"
    ]
   },
   "outputs": [],
   "source": [
    "# PyTorch不会隐式地调整输入的形状。因此，\n",
    "# 我们在线性层前定义了展平层（flatten），来调整网络输入的形状\n",
    "net = nn.Sequential(nn.Flatten(), nn.Linear(784, 10))\n",
    "\n",
    "def init_weights(m):\n",
    "    if type(m) == nn.Linear:\n",
    "        nn.init.normal_(m.weight, std=0.01)\n",
    "\n",
    "net.apply(init_weights);"
   ]
  },
  {
   "cell_type": "markdown",
   "id": "22820972",
   "metadata": {
    "origin_pos": 9
   },
   "source": [
    "## 重新审视Softmax的实现\n",
    ":label:`subsec_softmax-implementation-revisited`\n",
    "\n",
    "在前面 :numref:`sec_softmax_scratch`的例子中，\n",
    "我们计算了模型的输出，然后将此输出送入交叉熵损失。\n",
    "从数学上讲，这是一件完全合理的事情。\n",
    "然而，从计算角度来看，指数可能会造成数值稳定性问题。\n",
    "\n",
    "回想一下，softmax函数$\\hat y_j = \\frac{\\exp(o_j)}{\\sum_k \\exp(o_k)}$，\n",
    "其中$\\hat y_j$是预测的概率分布。\n",
    "$o_j$是未规范化的预测$\\mathbf{o}$的第$j$个元素。\n",
    "如果$o_k$中的一些数值非常大，\n",
    "那么$\\exp(o_k)$可能大于数据类型容许的最大数字，即*上溢*（overflow）。\n",
    "这将使分母或分子变为`inf`（无穷大），\n",
    "最后得到的是0、`inf`或`nan`（不是数字）的$\\hat y_j$。\n",
    "在这些情况下，我们无法得到一个明确定义的交叉熵值。\n",
    "\n",
    "解决这个问题的一个技巧是：\n",
    "在继续softmax计算之前，先从所有$o_k$中减去$\\max(o_k)$。\n",
    "你可以看到每个$o_k$按常数进行的移动不会改变softmax的返回值：\n",
    "\n",
    "$$\n",
    "\\begin{aligned}\n",
    "\\hat y_j & =  \\frac{\\exp(o_j - \\max(o_k))\\exp(\\max(o_k))}{\\sum_k \\exp(o_k - \\max(o_k))\\exp(\\max(o_k))} \\\\\n",
    "& = \\frac{\\exp(o_j - \\max(o_k))}{\\sum_k \\exp(o_k - \\max(o_k))}.\n",
    "\\end{aligned}\n",
    "$$\n",
    "\n",
    "\n",
    "在减法和规范化步骤之后，可能有些$o_j - \\max(o_k)$具有较大的负值。\n",
    "由于精度受限，$\\exp(o_j - \\max(o_k))$将有接近零的值，即*下溢*（underflow）。\n",
    "这些值可能会四舍五入为零，使$\\hat y_j$为零，\n",
    "并且使得$\\log(\\hat y_j)$的值为`-inf`。\n",
    "反向传播几步后，我们可能会发现自己面对一屏幕可怕的`nan`结果。\n",
    "\n",
    "尽管我们要计算指数函数，但我们最终在计算交叉熵损失时会取它们的对数。\n",
    "通过将softmax和交叉熵结合在一起，可以避免反向传播过程中可能会困扰我们的数值稳定性问题。\n",
    "如下面的等式所示，我们避免计算$\\exp(o_j - \\max(o_k))$，\n",
    "而可以直接使用$o_j - \\max(o_k)$，因为$\\log(\\exp(\\cdot))$被抵消了。\n",
    "\n",
    "$$\n",
    "\\begin{aligned}\n",
    "\\log{(\\hat y_j)} & = \\log\\left( \\frac{\\exp(o_j - \\max(o_k))}{\\sum_k \\exp(o_k - \\max(o_k))}\\right) \\\\\n",
    "& = \\log{(\\exp(o_j - \\max(o_k)))}-\\log{\\left( \\sum_k \\exp(o_k - \\max(o_k)) \\right)} \\\\\n",
    "& = o_j - \\max(o_k) -\\log{\\left( \\sum_k \\exp(o_k - \\max(o_k)) \\right)}.\n",
    "\\end{aligned}\n",
    "$$\n",
    "\n",
    "我们也希望保留传统的softmax函数，以备我们需要评估通过模型输出的概率。\n",
    "但是，我们没有将softmax概率传递到损失函数中，\n",
    "而是[**在交叉熵损失函数中传递未规范化的预测，并同时计算softmax及其对数**]，\n",
    "这是一种类似[\"LogSumExp技巧\"](https://en.wikipedia.org/wiki/LogSumExp)的聪明方式。\n"
   ]
  },
  {
   "cell_type": "code",
   "execution_count": 4,
   "id": "353f743b",
   "metadata": {
    "execution": {
     "iopub.execute_input": "2022-07-31T02:33:47.335522Z",
     "iopub.status.busy": "2022-07-31T02:33:47.334915Z",
     "iopub.status.idle": "2022-07-31T02:33:47.338906Z",
     "shell.execute_reply": "2022-07-31T02:33:47.338142Z"
    },
    "origin_pos": 11,
    "tab": [
     "pytorch"
    ]
   },
   "outputs": [],
   "source": [
    "# softmax在损失函数中实现了：在交叉熵损失函数中传递未规范化的预测，并同时计算softmax及其对数\n",
    "loss = nn.CrossEntropyLoss(reduction='none')"
   ]
  },
  {
   "cell_type": "markdown",
   "id": "f7fac1fb",
   "metadata": {
    "origin_pos": 13
   },
   "source": [
    "## 优化算法\n",
    "\n",
    "在这里，我们(**使用学习率为0.1的小批量随机梯度下降作为优化算法**)。\n",
    "这与我们在线性回归例子中的相同，这说明了优化器的普适性。\n"
   ]
  },
  {
   "cell_type": "code",
   "execution_count": 5,
   "id": "79d50a1c",
   "metadata": {
    "execution": {
     "iopub.execute_input": "2022-07-31T02:33:47.341773Z",
     "iopub.status.busy": "2022-07-31T02:33:47.341507Z",
     "iopub.status.idle": "2022-07-31T02:33:47.345445Z",
     "shell.execute_reply": "2022-07-31T02:33:47.344674Z"
    },
    "origin_pos": 15,
    "tab": [
     "pytorch"
    ]
   },
   "outputs": [],
   "source": [
    "trainer = torch.optim.SGD(net.parameters(), lr=0.1)"
   ]
  },
  {
   "cell_type": "markdown",
   "id": "17032868",
   "metadata": {
    "origin_pos": 17
   },
   "source": [
    "## 训练\n",
    "\n",
    "接下来我们[**调用**] :numref:`sec_softmax_scratch`中(~~之前~~)\n",
    "(**定义的训练函数来训练模型**)。\n"
   ]
  },
  {
   "cell_type": "code",
   "execution_count": 1,
   "id": "35bdfc55",
   "metadata": {
    "execution": {
     "iopub.execute_input": "2022-07-31T02:33:47.348296Z",
     "iopub.status.busy": "2022-07-31T02:33:47.348024Z",
     "iopub.status.idle": "2022-07-31T02:34:20.463682Z",
     "shell.execute_reply": "2022-07-31T02:34:20.462914Z"
    },
    "origin_pos": 18,
    "tab": [
     "pytorch"
    ]
   },
   "outputs": [
    {
     "ename": "NameError",
     "evalue": "name 'd2l' is not defined",
     "output_type": "error",
     "traceback": [
      "\u001b[0;31m---------------------------------------------------------------------------\u001b[0m",
      "\u001b[0;31mNameError\u001b[0m                                 Traceback (most recent call last)",
      "Cell \u001b[0;32mIn [1], line 2\u001b[0m\n\u001b[1;32m      1\u001b[0m num_epochs \u001b[38;5;241m=\u001b[39m \u001b[38;5;241m10\u001b[39m\n\u001b[0;32m----> 2\u001b[0m \u001b[43md2l\u001b[49m\u001b[38;5;241m.\u001b[39mtrain_ch3(net, train_iter, test_iter, loss, num_epochs, trainer)\n",
      "\u001b[0;31mNameError\u001b[0m: name 'd2l' is not defined"
     ]
    }
   ],
   "source": [
    "num_epochs = 10\n",
    "d2l.train_ch3(net, train_iter, test_iter, loss, num_epochs, trainer)"
   ]
  },
  {
   "cell_type": "markdown",
   "id": "afdd5d23",
   "metadata": {
    "origin_pos": 19
   },
   "source": [
    "和以前一样，这个算法使结果收敛到一个相当高的精度，而且这次的代码比之前更精简了。\n",
    "\n",
    "## 小结\n",
    "\n",
    "* 使用深度学习框架的高级API，我们可以更简洁地实现softmax回归。\n",
    "* 从计算的角度来看，实现softmax回归比较复杂。在许多情况下，深度学习框架在这些著名的技巧之外采取了额外的预防措施，来确保数值的稳定性。这使我们避免了在实践中从零开始编写模型时可能遇到的陷阱。\n",
    "\n",
    "## 练习\n",
    "\n",
    "1. 尝试调整超参数，例如批量大小、迭代周期数和学习率，并查看结果。\n",
    "1. 增加迭代周期的数量。为什么测试精度会在一段时间后降低？我们怎么解决这个问题？\n"
   ]
  },
  {
   "cell_type": "markdown",
   "id": "8abad0c2",
   "metadata": {
    "origin_pos": 21,
    "tab": [
     "pytorch"
    ]
   },
   "source": [
    "[Discussions](https://discuss.d2l.ai/t/1793)\n"
   ]
  }
 ],
 "metadata": {
  "kernelspec": {
   "display_name": "Python 3 (ipykernel)",
   "language": "python",
   "name": "python3"
  },
  "language_info": {
   "codemirror_mode": {
    "name": "ipython",
    "version": 3
   },
   "file_extension": ".py",
   "mimetype": "text/x-python",
   "name": "python",
   "nbconvert_exporter": "python",
   "pygments_lexer": "ipython3",
   "version": "3.9.12"
  }
 },
 "nbformat": 4,
 "nbformat_minor": 5
}
